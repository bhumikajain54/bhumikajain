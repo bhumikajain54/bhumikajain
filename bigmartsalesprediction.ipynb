{
 "cells": [
  {
   "cell_type": "code",
   "execution_count": null,
   "id": "9d3158f8",
   "metadata": {},
   "outputs": [],
   "source": [
    "!pip install pandas numpy seaborn matplotlib klib dtale scikit-learn joblib pandas-profiling xgboost"
   ]
  },
  {
   "cell_type": "code",
   "execution_count": null,
   "id": "c8910c76",
   "metadata": {},
   "outputs": [],
   "source": [
    "import pandas as pd\n",
    "import numpy as np\n",
    "%matplotlib inline     \n",
    "#magic function in IPython  In[101]\n",
    "import matplotlib.pyplot as plt     # is a collection of command style functions that make matplotlib work like MATLAB\n",
    "import seaborn as sns"
   ]
  },
  {
   "cell_type": "code",
   "execution_count": null,
   "id": "6b59f41c",
   "metadata": {},
   "outputs": [],
   "source": [
    "df_train= pd.read_csv(r'D:\\5th_semester\\MiniProject2A\\Projectworking\\dataset\\Train.csv')\n",
    "df_test= pd.read_csv(r'D:\\5th_semester\\MiniProject2A\\Projectworking\\dataset\\Test.csv')"
   ]
  },
  {
   "cell_type": "code",
   "execution_count": null,
   "id": "9e4f0fdb",
   "metadata": {},
   "outputs": [],
   "source": [
    "df_train.head()  # displays the first five rows of the dataframe by default"
   ]
  },
  {
   "cell_type": "code",
   "execution_count": null,
   "id": "c77799e0",
   "metadata": {},
   "outputs": [],
   "source": [
    "#df_test.head()"
   ]
  },
  {
   "cell_type": "code",
   "execution_count": null,
   "id": "26412004",
   "metadata": {},
   "outputs": [],
   "source": [
    "df_train.shape  # a tuple of array dimensions that tells the number of rows and columns of a given DataFrame"
   ]
  },
  {
   "cell_type": "code",
   "execution_count": null,
   "id": "8b6193b6",
   "metadata": {},
   "outputs": [],
   "source": [
    "df_train.isnull().sum()  #seeing the number of null values in the dataset"
   ]
  },
  {
   "cell_type": "code",
   "execution_count": null,
   "id": "286b6ce0",
   "metadata": {},
   "outputs": [],
   "source": [
    "df_test.isnull().sum()"
   ]
  },
  {
   "cell_type": "code",
   "execution_count": null,
   "id": "72c37386",
   "metadata": {},
   "outputs": [],
   "source": [
    "df_train.info()   #seeing the detailed info of the dataset and its types of target variables"
   ]
  },
  {
   "cell_type": "code",
   "execution_count": null,
   "id": "07b2afb5",
   "metadata": {},
   "outputs": [],
   "source": [
    "df_train.describe()  # to generate descriptive statistics that summarize the central tendency, dispersion and\n",
    "                     # shape of a dataset's distribution, excluding NaN values."
   ]
  },
  {
   "cell_type": "markdown",
   "id": "27ad105e",
   "metadata": {},
   "source": [
    "## Item_Weight is numerical column so we fill it with Mean Imputation"
   ]
  },
  {
   "cell_type": "code",
   "execution_count": null,
   "id": "4a1d93b2",
   "metadata": {},
   "outputs": [],
   "source": [
    "df_train['Item_Weight'].describe()  #seeing all the central tendenies of the dataset"
   ]
  },
  {
   "cell_type": "code",
   "execution_count": null,
   "id": "69dd88b2",
   "metadata": {},
   "outputs": [],
   "source": [
    "df_train['Item_Weight'].fillna(df_train['Item_Weight'].mean(),inplace=True)  #replacing null values with mean values\n",
    "df_test['Item_Weight'].fillna(df_train['Item_Weight'].mean(),inplace=True)"
   ]
  },
  {
   "cell_type": "code",
   "execution_count": null,
   "id": "615c2646",
   "metadata": {},
   "outputs": [],
   "source": [
    "df_train.isnull().sum()  #no null values in item weight"
   ]
  },
  {
   "cell_type": "code",
   "execution_count": null,
   "id": "5e18a0fe",
   "metadata": {
    "scrolled": true
   },
   "outputs": [],
   "source": [
    "df_train['Item_Weight'].describe()"
   ]
  },
  {
   "cell_type": "markdown",
   "id": "66242a6c",
   "metadata": {},
   "source": [
    "## Outlet_Size is catagorical column so we fill it with Mode Imputation"
   ]
  },
  {
   "cell_type": "code",
   "execution_count": null,
   "id": "dca9e125",
   "metadata": {},
   "outputs": [],
   "source": [
    "df_train['Outlet_Size']  #it is a categorical value "
   ]
  },
  {
   "cell_type": "code",
   "execution_count": null,
   "id": "993ebb93",
   "metadata": {},
   "outputs": [],
   "source": [
    "df_train['Outlet_Size'].value_counts()"
   ]
  },
  {
   "cell_type": "code",
   "execution_count": null,
   "id": "8605fc79",
   "metadata": {},
   "outputs": [],
   "source": [
    "df_train['Outlet_Size'].mode()"
   ]
  },
  {
   "cell_type": "code",
   "execution_count": null,
   "id": "ea4f96f3",
   "metadata": {},
   "outputs": [],
   "source": [
    "df_train['Outlet_Size'].fillna(df_train['Outlet_Size'].mode()[0],inplace=True)\n",
    "df_test['Outlet_Size'].fillna(df_test['Outlet_Size'].mode()[0],inplace=True)"
   ]
  },
  {
   "cell_type": "markdown",
   "id": "faf095ea",
   "metadata": {},
   "source": [
    "## pandas treats the mode as something special since they can be unimodal , bimodal or multimodal distributions they \n",
    "## had to make sure that 1 value could be returned   \"Always return series even if only one value is returned\""
   ]
  },
  {
   "cell_type": "code",
   "execution_count": null,
   "id": "a070ee83",
   "metadata": {},
   "outputs": [],
   "source": [
    "df_train.isnull().sum()  #no null value :)"
   ]
  },
  {
   "cell_type": "code",
   "execution_count": null,
   "id": "94965d51",
   "metadata": {},
   "outputs": [],
   "source": [
    "df_test.isnull().sum()"
   ]
  },
  {
   "cell_type": "markdown",
   "id": "efed5c3a",
   "metadata": {},
   "source": [
    "# Dimesnsionality reduction of item identifier and outlet identifier"
   ]
  },
  {
   "cell_type": "code",
   "execution_count": null,
   "id": "cd446b72",
   "metadata": {},
   "outputs": [],
   "source": [
    "df_train.drop(['Item_Identifier','Outlet_Identifier'],axis=1,inplace=True)\n",
    "df_test.drop(['Item_Identifier','Outlet_Identifier'],axis=1,inplace=True)"
   ]
  },
  {
   "cell_type": "code",
   "execution_count": null,
   "id": "96f01329",
   "metadata": {},
   "outputs": [],
   "source": [
    "df_train"
   ]
  },
  {
   "cell_type": "code",
   "execution_count": null,
   "id": "1c79de28",
   "metadata": {},
   "outputs": [],
   "source": [
    "df_test"
   ]
  },
  {
   "cell_type": "markdown",
   "id": "cd604e01",
   "metadata": {},
   "source": [
    "## EDA (Exploratory data analysis) with Dtale library"
   ]
  },
  {
   "cell_type": "code",
   "execution_count": null,
   "id": "e0be22f1",
   "metadata": {},
   "outputs": [],
   "source": [
    "import dtale"
   ]
  },
  {
   "cell_type": "code",
   "execution_count": null,
   "id": "d7b62c01",
   "metadata": {},
   "outputs": [],
   "source": [
    "dtale.show(df_train)"
   ]
  },
  {
   "cell_type": "markdown",
   "id": "61a0b4cf",
   "metadata": {},
   "source": [
    "## EDA using Pandas profiling"
   ]
  },
  {
   "cell_type": "code",
   "execution_count": null,
   "id": "56c11e0d",
   "metadata": {},
   "outputs": [],
   "source": [
    "pip install ipywidgets"
   ]
  },
  {
   "cell_type": "code",
   "execution_count": null,
   "id": "fe0963f6",
   "metadata": {},
   "outputs": [],
   "source": [
    "from pandas_profiling import ProfileReport"
   ]
  },
  {
   "cell_type": "code",
   "execution_count": null,
   "id": "5923e4b1",
   "metadata": {},
   "outputs": [],
   "source": [
    "profile = ProfileReport(df_train, title =\"Pandas Profiling Report\")"
   ]
  },
  {
   "cell_type": "code",
   "execution_count": null,
   "id": "ca11a635",
   "metadata": {},
   "outputs": [],
   "source": [
    "profile"
   ]
  },
  {
   "cell_type": "code",
   "execution_count": null,
   "id": "dfab08e9",
   "metadata": {},
   "outputs": [],
   "source": [
    "plt.figure(figsize=(10,5))\n",
    "sns.heatmap(df_train.corr(),annot=True)\n",
    "plt.show()"
   ]
  },
  {
   "cell_type": "markdown",
   "id": "d8af9a33",
   "metadata": {},
   "source": [
    "## EDA using Klib library"
   ]
  },
  {
   "cell_type": "code",
   "execution_count": null,
   "id": "5f225744",
   "metadata": {},
   "outputs": [],
   "source": [
    "import klib"
   ]
  },
  {
   "cell_type": "code",
   "execution_count": null,
   "id": "68085e5a",
   "metadata": {},
   "outputs": [],
   "source": [
    "# klib.describe - functions for visualizing datasets\n",
    "klib.cat_plot(df_train) # returns a visualization of the number and frequency of categorical features"
   ]
  },
  {
   "cell_type": "code",
   "execution_count": null,
   "id": "c9306fc7",
   "metadata": {},
   "outputs": [],
   "source": [
    "klib.corr_mat(df_train) # returns a color-encoded correlation matrix"
   ]
  },
  {
   "cell_type": "code",
   "execution_count": null,
   "id": "43d35a87",
   "metadata": {},
   "outputs": [],
   "source": [
    "klib.corr_plot(df_train) # returns a color-encoded heatmap, ideal for correlations"
   ]
  },
  {
   "cell_type": "code",
   "execution_count": null,
   "id": "cbde4db9",
   "metadata": {},
   "outputs": [],
   "source": [
    "klib.dist_plot(df_train) # returns a distribution plot for every numeric feature"
   ]
  },
  {
   "cell_type": "code",
   "execution_count": null,
   "id": "b68f4416",
   "metadata": {},
   "outputs": [],
   "source": [
    "klib.missingval_plot(df_train) # returns a figure containing information about missing values"
   ]
  },
  {
   "cell_type": "markdown",
   "id": "0fa98323",
   "metadata": {},
   "source": [
    "## Data cleaning Klib "
   ]
  },
  {
   "cell_type": "code",
   "execution_count": null,
   "id": "7e67916b",
   "metadata": {},
   "outputs": [],
   "source": [
    "# klib.clean - functions for cleaning datasets\n",
    "klib.data_cleaning(df_train) # performs datacleaning (drop duplicates & empty rows/cols, adjust dtypes,...)"
   ]
  },
  {
   "cell_type": "code",
   "execution_count": null,
   "id": "fda258c1",
   "metadata": {},
   "outputs": [],
   "source": [
    "klib.clean_column_names(df_train) # cleans and standardizes column names, also called inside data_cleaning()"
   ]
  },
  {
   "cell_type": "code",
   "execution_count": null,
   "id": "df05c989",
   "metadata": {},
   "outputs": [],
   "source": [
    "df_train.info()"
   ]
  },
  {
   "cell_type": "code",
   "execution_count": null,
   "id": "084eb9f0",
   "metadata": {},
   "outputs": [],
   "source": [
    "df_train=klib.convert_datatypes(df_train) # converts existing to more efficient dtypes, also called inside data_cleaning()\n",
    "df_train.info()"
   ]
  },
  {
   "cell_type": "code",
   "execution_count": null,
   "id": "db05af9e",
   "metadata": {},
   "outputs": [],
   "source": [
    "klib.mv_col_handling(df_train)"
   ]
  },
  {
   "cell_type": "markdown",
   "id": "003379af",
   "metadata": {},
   "source": [
    "## Preprocessing Task before Model Building"
   ]
  },
  {
   "cell_type": "markdown",
   "id": "913b4752",
   "metadata": {},
   "source": [
    "## 1) Label encoding"
   ]
  },
  {
   "cell_type": "code",
   "execution_count": null,
   "id": "4fdde05e",
   "metadata": {},
   "outputs": [],
   "source": [
    "from sklearn.preprocessing import LabelEncoder\n",
    "le=LabelEncoder()"
   ]
  },
  {
   "cell_type": "code",
   "execution_count": null,
   "id": "aa23fd11",
   "metadata": {},
   "outputs": [],
   "source": [
    "df_train['item_fat_content']= le.fit_transform(df_train['item_fat_content'])\n",
    "df_train['item_type']= le.fit_transform(df_train['item_type'])\n",
    "df_train['outlet_size']= le.fit_transform(df_train['outlet_size'])\n",
    "df_train['outlet_location_type']= le.fit_transform(df_train['outlet_location_type'])\n",
    "df_train['outlet_type']= le.fit_transform(df_train['outlet_type'])"
   ]
  },
  {
   "cell_type": "code",
   "execution_count": null,
   "id": "fa12d923",
   "metadata": {},
   "outputs": [],
   "source": [
    "df_train.head(5)"
   ]
  },
  {
   "cell_type": "markdown",
   "id": "8ac7207f",
   "metadata": {},
   "source": [
    "## 2) Splitting our data into train and test files"
   ]
  },
  {
   "cell_type": "code",
   "execution_count": null,
   "id": "f34c451d",
   "metadata": {},
   "outputs": [],
   "source": [
    "X=df_train.drop('item_outlet_sales',axis=1)"
   ]
  },
  {
   "cell_type": "code",
   "execution_count": null,
   "id": "adf57190",
   "metadata": {},
   "outputs": [],
   "source": [
    "Y=df_train['item_outlet_sales']"
   ]
  },
  {
   "cell_type": "code",
   "execution_count": null,
   "id": "4321775d",
   "metadata": {},
   "outputs": [],
   "source": [
    "from sklearn.model_selection import train_test_split\n",
    "\n",
    "X_train, X_test, Y_train, Y_test = train_test_split(X,Y, random_state=101, test_size=0.2)"
   ]
  },
  {
   "cell_type": "markdown",
   "id": "10805e3b",
   "metadata": {},
   "source": [
    "## 3)Standarization"
   ]
  },
  {
   "cell_type": "code",
   "execution_count": null,
   "id": "511be4bc",
   "metadata": {},
   "outputs": [],
   "source": [
    "X.describe()"
   ]
  },
  {
   "cell_type": "code",
   "execution_count": null,
   "id": "82627c66",
   "metadata": {},
   "outputs": [],
   "source": [
    "from sklearn.preprocessing import StandardScaler\n",
    "sc= StandardScaler()"
   ]
  },
  {
   "cell_type": "code",
   "execution_count": null,
   "id": "112dad7c",
   "metadata": {},
   "outputs": [],
   "source": [
    "X_train_std= sc.fit_transform(X_train)  # learning how the data is in X train and then transforming"
   ]
  },
  {
   "cell_type": "code",
   "execution_count": null,
   "id": "729ae569",
   "metadata": {},
   "outputs": [],
   "source": [
    "X_test_std= sc.transform(X_test)"
   ]
  },
  {
   "cell_type": "code",
   "execution_count": null,
   "id": "64531cfb",
   "metadata": {},
   "outputs": [],
   "source": [
    "X_train_std"
   ]
  },
  {
   "cell_type": "code",
   "execution_count": null,
   "id": "a80ec762",
   "metadata": {},
   "outputs": [],
   "source": [
    "X_test_std"
   ]
  },
  {
   "cell_type": "code",
   "execution_count": null,
   "id": "8ac7b017",
   "metadata": {},
   "outputs": [],
   "source": [
    "Y_train"
   ]
  },
  {
   "cell_type": "code",
   "execution_count": null,
   "id": "0ff324ac",
   "metadata": {},
   "outputs": [],
   "source": [
    "Y_test"
   ]
  },
  {
   "cell_type": "code",
   "execution_count": null,
   "id": "c8af3ada",
   "metadata": {},
   "outputs": [],
   "source": [
    "import joblib "
   ]
  },
  {
   "cell_type": "code",
   "execution_count": null,
   "id": "61195809",
   "metadata": {},
   "outputs": [],
   "source": [
    "joblib.dump(sc,r'D:\\5th_semester\\MiniProject2A\\Projectworking\\models\\sc.sav')"
   ]
  },
  {
   "cell_type": "markdown",
   "id": "1b9cc95e",
   "metadata": {},
   "source": [
    "# Model building "
   ]
  },
  {
   "cell_type": "code",
   "execution_count": null,
   "id": "7a7395b1",
   "metadata": {},
   "outputs": [],
   "source": [
    "X_test.head()"
   ]
  },
  {
   "cell_type": "code",
   "execution_count": null,
   "id": "5231fad0",
   "metadata": {},
   "outputs": [],
   "source": [
    "from sklearn.metrics import r2_score, mean_absolute_error, mean_squared_error"
   ]
  },
  {
   "cell_type": "markdown",
   "id": "34b030f6",
   "metadata": {},
   "source": [
    "## Linear Regression "
   ]
  },
  {
   "cell_type": "code",
   "execution_count": null,
   "id": "9df06450",
   "metadata": {},
   "outputs": [],
   "source": [
    "from sklearn.linear_model import LinearRegression\n",
    "lr= LinearRegression()"
   ]
  },
  {
   "cell_type": "code",
   "execution_count": null,
   "id": "c91c069d",
   "metadata": {},
   "outputs": [],
   "source": [
    "lr.fit(X_train_std,Y_train)"
   ]
  },
  {
   "cell_type": "code",
   "execution_count": null,
   "id": "dbd72cdd",
   "metadata": {},
   "outputs": [],
   "source": [
    "Y_pred_lr=lr.predict(X_test_std)"
   ]
  },
  {
   "cell_type": "code",
   "execution_count": null,
   "id": "e8c663e2",
   "metadata": {},
   "outputs": [],
   "source": [
    "r2_score(Y_test,Y_pred_lr)"
   ]
  },
  {
   "cell_type": "code",
   "execution_count": null,
   "id": "aa423839",
   "metadata": {},
   "outputs": [],
   "source": [
    "print(r2_score(Y_test,Y_pred_lr))\n",
    "print(mean_absolute_error(Y_test,Y_pred_lr))\n",
    "print(np.sqrt(mean_squared_error(Y_test,Y_pred_lr)))"
   ]
  },
  {
   "cell_type": "code",
   "execution_count": null,
   "id": "26be390f",
   "metadata": {},
   "outputs": [],
   "source": [
    "joblib.dump(lr,r'D:\\5th_semester\\MiniProject2A\\Projectworking\\models\\lr.sav')"
   ]
  },
  {
   "cell_type": "markdown",
   "id": "e10a058d",
   "metadata": {},
   "source": [
    "## Random Forest Regressor"
   ]
  },
  {
   "cell_type": "code",
   "execution_count": null,
   "id": "ac8b2ba1",
   "metadata": {},
   "outputs": [],
   "source": [
    "from sklearn.ensemble import RandomForestRegressor\n",
    "rf= RandomForestRegressor()"
   ]
  },
  {
   "cell_type": "code",
   "execution_count": null,
   "id": "e5de7da6",
   "metadata": {},
   "outputs": [],
   "source": [
    "rf.fit(X_train_std,Y_train)"
   ]
  },
  {
   "cell_type": "code",
   "execution_count": null,
   "id": "94ecc8aa",
   "metadata": {},
   "outputs": [],
   "source": [
    "Y_pred_rf= rf.predict(X_test_std)"
   ]
  },
  {
   "cell_type": "code",
   "execution_count": null,
   "id": "e6f743a2",
   "metadata": {},
   "outputs": [],
   "source": [
    "r2_score(Y_test,Y_pred_rf)"
   ]
  },
  {
   "cell_type": "code",
   "execution_count": null,
   "id": "349c9d4d",
   "metadata": {},
   "outputs": [],
   "source": [
    "print(r2_score(Y_test,Y_pred_rf))\n",
    "print(mean_absolute_error(Y_test,Y_pred_rf))\n",
    "print(np.sqrt(mean_squared_error(Y_test,Y_pred_rf)))"
   ]
  },
  {
   "cell_type": "code",
   "execution_count": null,
   "id": "f4c2a8d2",
   "metadata": {},
   "outputs": [],
   "source": [
    "joblib.dump(rf,r'D:\\5th_semester\\MiniProject2A\\Projectworking\\models\\rf.sav')"
   ]
  },
  {
   "cell_type": "markdown",
   "id": "edd6bd5a",
   "metadata": {},
   "source": [
    "## XG Boost Regressor"
   ]
  },
  {
   "cell_type": "code",
   "execution_count": null,
   "id": "bcbc6f8b",
   "metadata": {},
   "outputs": [],
   "source": [
    "from xgboost import XGBRegressor\n",
    "xg= XGBRegressor()"
   ]
  },
  {
   "cell_type": "code",
   "execution_count": null,
   "id": "bb336963",
   "metadata": {},
   "outputs": [],
   "source": [
    "xg.fit(X_train_std, Y_train)"
   ]
  },
  {
   "cell_type": "code",
   "execution_count": null,
   "id": "5bd9a652",
   "metadata": {},
   "outputs": [],
   "source": [
    "Y_pred_xg= xg.predict(X_test_std)"
   ]
  },
  {
   "cell_type": "code",
   "execution_count": null,
   "id": "cf18bc43",
   "metadata": {},
   "outputs": [],
   "source": [
    "r2_score(Y_test,Y_pred_xg)"
   ]
  },
  {
   "cell_type": "code",
   "execution_count": null,
   "id": "25ada3d9",
   "metadata": {},
   "outputs": [],
   "source": [
    "print(r2_score(Y_test,Y_pred_xg))\n",
    "print(mean_absolute_error(Y_test,Y_pred_xg))\n",
    "print(np.sqrt(mean_squared_error(Y_test,Y_pred_xg)))"
   ]
  },
  {
   "cell_type": "code",
   "execution_count": null,
   "id": "678e1709",
   "metadata": {},
   "outputs": [],
   "source": [
    "joblib.dump(rf,r'D:\\5th_semester\\MiniProject2A\\Projectworking\\models\\xg.sav')"
   ]
  },
  {
   "cell_type": "markdown",
   "id": "d101985e",
   "metadata": {},
   "source": [
    "## Hyper parameter tuning"
   ]
  },
  {
   "cell_type": "code",
   "execution_count": null,
   "id": "bd20d69d",
   "metadata": {},
   "outputs": [],
   "source": [
    "from sklearn.model_selection import RepeatedStratifiedKFold\n",
    "from sklearn.model_selection import GridSearchCV\n",
    "\n",
    "# define models and parameters\n",
    "model = RandomForestRegressor()\n",
    "n_estimators = [10, 100, 1000]\n",
    "max_depth=range(1,31)\n",
    "min_samples_leaf=np.linspace(0.1, 1.0)\n",
    "max_features=[\"auto\", \"sqrt\", \"log2\"]\n",
    "min_samples_split=np.linspace(0.1, 1.0, 10)\n",
    "\n",
    "# define grid search\n",
    "grid = dict(n_estimators=n_estimators)\n",
    "\n",
    "\n",
    "grid_search_forest = GridSearchCV(estimator=model, param_grid=grid, n_jobs=-1, \n",
    "                           scoring='r2',error_score=0,verbose=2,cv=2)\n",
    "\n",
    "grid_search_forest.fit(X_train_std, Y_train)\n",
    "\n",
    "# summarize results\n",
    "print(f\"Best: {grid_search_forest.best_score_:.3f} using {grid_search_forest.best_params_}\")\n",
    "means = grid_search_forest.cv_results_['mean_test_score']\n",
    "stds = grid_search_forest.cv_results_['std_test_score']\n",
    "params = grid_search_forest.cv_results_['params']\n",
    "\n",
    "for mean, stdev, param in zip(means, stds, params):\n",
    "    print(f\"{mean:.3f} ({stdev:.3f}) with: {param}\")"
   ]
  },
  {
   "cell_type": "code",
   "execution_count": null,
   "id": "8013bb58",
   "metadata": {},
   "outputs": [],
   "source": [
    "grid_search_forest.best_params_"
   ]
  },
  {
   "cell_type": "code",
   "execution_count": null,
   "id": "2752c12a",
   "metadata": {},
   "outputs": [],
   "source": [
    "grid_search_forest.best_score_"
   ]
  },
  {
   "cell_type": "code",
   "execution_count": null,
   "id": "2f791295",
   "metadata": {},
   "outputs": [],
   "source": [
    "Y_pred_rf_grid=grid_search_forest.predict(X_test_std)"
   ]
  },
  {
   "cell_type": "code",
   "execution_count": null,
   "id": "bbd9a8c9",
   "metadata": {},
   "outputs": [],
   "source": [
    "r2_score(Y_test,Y_pred_rf_grid)"
   ]
  },
  {
   "cell_type": "markdown",
   "id": "3c7e2335",
   "metadata": {},
   "source": [
    "## Save the model"
   ]
  },
  {
   "cell_type": "code",
   "execution_count": null,
   "id": "a518813b",
   "metadata": {},
   "outputs": [],
   "source": [
    "import joblib"
   ]
  },
  {
   "cell_type": "code",
   "execution_count": null,
   "id": "20703da1",
   "metadata": {},
   "outputs": [],
   "source": [
    "joblib.dump(grid_search_forest,r'D:\\5th_semester\\MiniProject2A\\Projectworking\\random_forest_grid.sav')"
   ]
  },
  {
   "cell_type": "code",
   "execution_count": null,
   "id": "c925d63f",
   "metadata": {},
   "outputs": [],
   "source": [
    "model=joblib.load(r'D:\\5th_semester\\MiniProject2A\\Projectworking\\random_forest_grid.sav')"
   ]
  },
  {
   "cell_type": "code",
   "execution_count": null,
   "id": "f731629b",
   "metadata": {},
   "outputs": [],
   "source": [
    "model.predict(X_test_std)"
   ]
  }
 ],
 "metadata": {
  "kernelspec": {
   "display_name": "Python 3 (ipykernel)",
   "language": "python",
   "name": "python3"
  },
  "language_info": {
   "codemirror_mode": {
    "name": "ipython",
    "version": 3
   },
   "file_extension": ".py",
   "mimetype": "text/x-python",
   "name": "python",
   "nbconvert_exporter": "python",
   "pygments_lexer": "ipython3",
   "version": "3.10.11"
  }
 },
 "nbformat": 4,
 "nbformat_minor": 5
}
